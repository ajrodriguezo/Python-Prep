{
 "cells": [
  {
   "attachments": {},
   "cell_type": "markdown",
   "metadata": {},
   "source": [
    "## Funciones"
   ]
  },
  {
   "attachments": {},
   "cell_type": "markdown",
   "metadata": {},
   "source": [
    "1) Crear una función que reciba un número como parámetro y devuelva True si es primo y False si no lo es"
   ]
  },
  {
   "cell_type": "code",
   "execution_count": 29,
   "metadata": {},
   "outputs": [],
   "source": [
    "def primo (numero):\n",
    "    for i in range(2,numero -1):\n",
    "        if numero%i ==0:\n",
    "            return False\n",
    "            break\n",
    "    return True"
   ]
  },
  {
   "cell_type": "code",
   "execution_count": 30,
   "metadata": {},
   "outputs": [
    {
     "data": {
      "text/plain": [
       "True"
      ]
     },
     "execution_count": 30,
     "metadata": {},
     "output_type": "execute_result"
    }
   ],
   "source": [
    "primo(5)"
   ]
  },
  {
   "attachments": {},
   "cell_type": "markdown",
   "metadata": {},
   "source": [
    "2) Utilizando la función del punto 1, realizar otra función que reciba de parámetro una lista de números y devuelva sólo aquellos que son primos en otra lista"
   ]
  },
  {
   "cell_type": "code",
   "execution_count": 33,
   "metadata": {},
   "outputs": [],
   "source": [
    "def primo_lista (lis):\n",
    "    lista_primos=[]\n",
    "    for numero in lis:\n",
    "        #print(primo(numero))\n",
    "        if (primo(numero)):\n",
    "            lista_primos.append(numero)\n",
    "    return lista_primos"
   ]
  },
  {
   "cell_type": "code",
   "execution_count": 34,
   "metadata": {},
   "outputs": [
    {
     "data": {
      "text/plain": [
       "[1, 2, 3, 5, 7]"
      ]
     },
     "execution_count": 34,
     "metadata": {},
     "output_type": "execute_result"
    }
   ],
   "source": [
    "primo_lista([1,2,3,4,5,6,7,8,9])"
   ]
  },
  {
   "attachments": {},
   "cell_type": "markdown",
   "metadata": {},
   "source": [
    "3) Crear una función que al recibir una lista de números, devuelva el que más se repite y cuántas veces lo hace. Si hay más de un \"más repetido\", que devuelva cualquiera"
   ]
  },
  {
   "cell_type": "code",
   "execution_count": 38,
   "metadata": {},
   "outputs": [],
   "source": [
    "def repetidos (lis):\n",
    "    numeros_rep=[] #Lista para numeros repetidos\n",
    "    frec_rep=[] # lista para almacenar la frecuencia\n",
    "    if len(lis)==0:# verifica si la lista esta vacia \n",
    "        print('la lista esta vacia')\n",
    "        return None\n",
    "    for num in lis: #recorre la la lista numero a numero \n",
    "        if num in numeros_rep: # revisa si el numero esta en la lista de repetidos \n",
    "            i = numeros_rep.index(num) # es obtiene el indice del numero en la lista de repetidos\n",
    "            frec_rep[i]+=1 # y se le suma +1 a la posicion correspondiente en su frecuencia\n",
    "        else:\n",
    "            numeros_rep.append(num) # si no es ta en la lista de repetidos entonces se agrega a la lista\n",
    "            frec_rep.append(1) # y se agrega un 1 para su primera aáricion\n",
    "    moda=numeros_rep[0]# asumimimos que el primer numero encontrado en la lsita es el mas repidos\n",
    "    maxi = frec_rep[0]# con sus repeticiones \n",
    "    for i, elem in enumerate(numeros_rep): # ahora recorremos la lista de los numero repetidos\n",
    "        if frec_rep[i]>maxi: # si la frecuencia es mayor a la asumida esta pasa a ser el maxio junto a su numero \n",
    "            moda = numeros_rep[i] # se actualiza si se cumple la condicion\n",
    "            maxi = frec_rep[i] # se actualiza si cumple la condicon \n",
    "    return moda,maxi # retomamos los valores \n"
   ]
  },
  {
   "cell_type": "code",
   "execution_count": 41,
   "metadata": {},
   "outputs": [
    {
     "data": {
      "text/plain": [
       "(1, 13)"
      ]
     },
     "execution_count": 41,
     "metadata": {},
     "output_type": "execute_result"
    }
   ],
   "source": [
    "repetidos([1,1,1,1,1,1,1,1,1,1,1,1,1,2,3,])"
   ]
  },
  {
   "attachments": {},
   "cell_type": "markdown",
   "metadata": {},
   "source": [
    "4) Crear una función que convierta entre grados Celsius, Farenheit y Kelvin<br>\n",
    "Fórmula 1\t: (°C × 9/5) + 32 = °F<br>\n",
    "Fórmula 2\t: °C + 273.15 = °K<br>\n",
    "Debe recibir 3 parámetros: el valor, la medida de orígen y la medida de destino\n"
   ]
  },
  {
   "cell_type": "code",
   "execution_count": 43,
   "metadata": {},
   "outputs": [],
   "source": [
    "def conversor (valor, origen, destino):\n",
    "    valor_destino=0\n",
    "    if origen == 'celsius':\n",
    "        \n",
    "        if destino == 'kelvin':\n",
    "            valor_destino = (valor + 273.15)\n",
    "        elif destino == 'farenheit':\n",
    "            valor_destino = ((valor * 9/5)+32)\n",
    "        elif destino == 'celsius':\n",
    "            valor_destino=valor\n",
    "        else:\n",
    "            print('El valor de destino no es valido')\n",
    "        \n",
    "    elif origen == 'farenheit':\n",
    "        \n",
    "        if destino == 'celsius':\n",
    "            valor_destino = ((valor - 32) * 5 / 9)\n",
    "        elif destino == 'kelvin':\n",
    "            valor_destino = (((valor - 32) * 5 / 9) + 273.15 ) \n",
    "        elif destino == origen:\n",
    "            valor_destino=valor\n",
    "        else:\n",
    "            print('El valor de destino no es valido')\n",
    "        \n",
    "    elif origen == 'kelvin':\n",
    "        \n",
    "        if destino == 'celsius':\n",
    "            valor_destino= (valor - 273.15)\n",
    "        elif destino == 'farenheit':\n",
    "            valor_destino = ((valor - 273.15) * 9 / 5) + 32\n",
    "        elif destino == origen:\n",
    "            valor_destino=valor\n",
    "        else:\n",
    "            print('El valor de destino no es valido')\n",
    "        \n",
    "    else:\n",
    "        print('la medidad de origen no es valida')\n",
    "    \n",
    "    return valor_destino"
   ]
  },
  {
   "cell_type": "code",
   "execution_count": 44,
   "metadata": {},
   "outputs": [
    {
     "name": "stdout",
     "output_type": "stream",
     "text": [
      "1 grado Celsius a Celsius: 1\n",
      "1 grado Celsius a Kelvin: 274.15\n",
      "1 grado Celsius a Farenheit: 33.8\n",
      "1 grado Kelvin a Celsius: -272.15\n",
      "1 grado Kelvin a Kelvin: 1\n",
      "1 grado Kelvin a Farenheit: -457.87\n",
      "1 grado Farenheit a Celsius: -17.22222222222222\n",
      "1 grado Farenheit a Kelvin: 255.92777777777775\n",
      "1 grado Farenheit a Farenheit: 1\n"
     ]
    }
   ],
   "source": [
    "print('1 grado Celsius a Celsius:', conversor(1, 'celsius', 'celsius'))\n",
    "print('1 grado Celsius a Kelvin:', conversor(1, 'celsius', 'kelvin'))\n",
    "print('1 grado Celsius a Farenheit:', conversor(1, 'celsius', 'farenheit'))\n",
    "print('1 grado Kelvin a Celsius:', conversor(1, 'kelvin', 'celsius'))\n",
    "print('1 grado Kelvin a Kelvin:', conversor(1, 'kelvin', 'kelvin'))\n",
    "print('1 grado Kelvin a Farenheit:', conversor(1, 'kelvin', 'farenheit'))\n",
    "print('1 grado Farenheit a Celsius:', conversor(1, 'farenheit', 'celsius'))\n",
    "print('1 grado Farenheit a Kelvin:', conversor(1, 'farenheit', 'kelvin'))\n",
    "print('1 grado Farenheit a Farenheit:', conversor(1, 'farenheit', 'farenheit'))"
   ]
  },
  {
   "attachments": {},
   "cell_type": "markdown",
   "metadata": {},
   "source": [
    "5) Iterando una lista con los tres valores posibles de temperatura que recibe la función del punto 5, hacer un print para cada combinación de los mismos:"
   ]
  },
  {
   "cell_type": "code",
   "execution_count": 49,
   "metadata": {},
   "outputs": [
    {
     "name": "stdout",
     "output_type": "stream",
     "text": [
      "1 grado celsius a celsius : 1\n",
      "1 grado celsius a kelvin : 274.15\n",
      "1 grado celsius a farenheit : 33.8\n",
      "1 grado kelvin a celsius : -272.15\n",
      "1 grado kelvin a kelvin : 1\n",
      "1 grado kelvin a farenheit : -457.87\n",
      "1 grado farenheit a celsius : -17.22222222222222\n",
      "1 grado farenheit a kelvin : 255.92777777777775\n",
      "1 grado farenheit a farenheit : 1\n"
     ]
    }
   ],
   "source": [
    "unidades = ['celsius','kelvin','farenheit']\n",
    "\n",
    "for i in unidades:\n",
    "    for j in unidades:\n",
    "        print('1 grado', i, 'a', j, ':', conversor(1,i,j))"
   ]
  },
  {
   "attachments": {},
   "cell_type": "markdown",
   "metadata": {},
   "source": [
    "6) Armar una función que devuelva el factorial de un número. Tener en cuenta que el usuario puede equivocarse y enviar de parámetro un número no entero o negativo"
   ]
  },
  {
   "cell_type": "code",
   "execution_count": 9,
   "metadata": {},
   "outputs": [],
   "source": [
    "def factorial (num):\n",
    "\n",
    "    if type(num) != int:\n",
    "        return('el numero debe ser un entero')\n",
    "    \n",
    "    if num < 0:\n",
    "        return('el numero no puede ser negativo')\n",
    "    \n",
    "    if num <=1 :\n",
    "        return 1\n",
    "    \n",
    "    num = num * factorial(num - 1)\n",
    "    \n",
    "    return num"
   ]
  },
  {
   "cell_type": "code",
   "execution_count": 10,
   "metadata": {},
   "outputs": [
    {
     "name": "stdout",
     "output_type": "stream",
     "text": [
      "120\n",
      "el numero no puede ser negativo\n",
      "el numero debe ser un entero\n",
      "el numero debe ser un entero\n"
     ]
    }
   ],
   "source": [
    "print(factorial(5))\n",
    "print(factorial(-2))\n",
    "print(factorial(1.23))\n",
    "print(factorial('6'))"
   ]
  }
 ],
 "metadata": {
  "interpreter": {
   "hash": "c85384e4cb51c8b72350f3a8712cc8351fdc3955e32a27f9b60c6242ab125f01"
  },
  "kernelspec": {
   "display_name": "Python 3 (ipykernel)",
   "language": "python",
   "name": "python3"
  },
  "language_info": {
   "codemirror_mode": {
    "name": "ipython",
    "version": 3
   },
   "file_extension": ".py",
   "mimetype": "text/x-python",
   "name": "python",
   "nbconvert_exporter": "python",
   "pygments_lexer": "ipython3",
   "version": "3.11.4"
  }
 },
 "nbformat": 4,
 "nbformat_minor": 4
}
