{
 "cells": [
  {
   "attachments": {},
   "cell_type": "markdown",
   "metadata": {},
   "source": [
    "## Manejo de errores"
   ]
  },
  {
   "attachments": {},
   "cell_type": "markdown",
   "metadata": {},
   "source": [
    "1) Con la clase creada en el módulo 7, tener en cuenta diferentes casos en que el código pudiera arrojar error. Por ejemplo, en la creación del objeto recibimos una lista de números enteros pero ¿qué pasa si se envía otro tipo de dato?"
   ]
  },
  {
   "cell_type": "code",
   "execution_count": 1,
   "metadata": {},
   "outputs": [],
   "source": [
    "import sys\n",
    "sys.path.append(r'/C:/Users/lopez/Documents/Henry/Repos/Python-Prep/07 - Classes & OOP/herramientas.py') # Agrega la ruta al archivo 'herramientas.py' al sys.path"
   ]
  },
  {
   "cell_type": "code",
   "execution_count": 2,
   "metadata": {},
   "outputs": [],
   "source": [
    "class Herramientas:\n",
    "    def __init__(self, lista_numeros):\n",
    "        self.lista = lista_numeros\n",
    "\n",
    "    def verifica_primo(self):\n",
    "        for i in self.lista:\n",
    "            if (self.__verifica_primo(i)):\n",
    "                print('El elemento', i, 'SI es un numero primo')\n",
    "            else:\n",
    "                print('El elemento', i, 'NO es un numero primo')\n",
    "\n",
    "    def conversion_grados(self, origen, destino):\n",
    "        for i in self.lista:\n",
    "            print(i, 'grados', origen, 'son', self.__conversion_grados(i, origen, destino),'grados',destino)\n",
    "    \n",
    "    def factorial(self):\n",
    "        for i in self.lista:\n",
    "            print('El factorial de ', i, 'es', self.__factorial(i))\n",
    "\n",
    "    def __verifica_primo(self, nro):\n",
    "        es_primo = True\n",
    "        for i in range(2, nro):\n",
    "            if nro % i == 0:\n",
    "                es_primo = False\n",
    "                break\n",
    "        return es_primo\n",
    "\n",
    "    def valor_modal(self, menor):\n",
    "        lista_unicos = []\n",
    "        lista_repeticiones = []\n",
    "        if len(self.lista) == 0:\n",
    "            return None\n",
    "        if (menor):\n",
    "            self.lista.sort()\n",
    "        else:\n",
    "            self.lista.sort(reverse=True)\n",
    "        for elemento in self.lista:\n",
    "            if elemento in lista_unicos:\n",
    "                i = lista_unicos.index(elemento)\n",
    "                lista_repeticiones[i] += 1\n",
    "            else:\n",
    "                lista_unicos.append(elemento)\n",
    "                lista_repeticiones.append(1)\n",
    "        moda = lista_unicos[0]\n",
    "        maximo = lista_repeticiones[0]\n",
    "        for i, elemento in enumerate(lista_unicos):\n",
    "            if lista_repeticiones[i] > maximo:\n",
    "                moda = lista_unicos[i]\n",
    "                maximo = lista_repeticiones[i]\n",
    "        return moda, maximo\n",
    "\n",
    "    def __conversion_grados(self, valor, origen, destino):\n",
    "        valor_destino = None\n",
    "        if (origen == 'celsius'):\n",
    "            if (destino == 'celsius'):\n",
    "                valor_destino = valor\n",
    "            elif (destino == 'farenheit'):\n",
    "                valor_destino = (valor * 9 / 5) + 32\n",
    "            elif (destino == 'kelvin'):\n",
    "                valor_destino = valor + 273.15\n",
    "            else:\n",
    "                print('Parámetro de Destino incorrecto')\n",
    "        elif (origen == 'farenheit'):\n",
    "            if (destino == 'celsius'):\n",
    "                valor_destino = (valor - 32) * 5 / 9\n",
    "            elif (destino == 'farenheit'):\n",
    "                valor_destino = valor\n",
    "            elif (destino == 'kelvin'):\n",
    "                valor_destino = ((valor - 32) * 5 / 9) + 273.15\n",
    "            else:\n",
    "                print('Parámetro de Destino incorrecto')\n",
    "        elif (origen == 'kelvin'):\n",
    "            if (destino == 'celsius'):\n",
    "                valor_destino = valor - 273.15\n",
    "            elif (destino == 'farenheit'):\n",
    "                valor_destino = ((valor - 273.15) * 9 / 5) + 32\n",
    "            elif (destino == 'kelvin'):\n",
    "                valor_destino = valor\n",
    "            else:\n",
    "                print('Parámetro de Destino incorrecto')\n",
    "        else:\n",
    "            print('Parámetro de Origen incorrecto')\n",
    "        return valor_destino\n",
    "\n",
    "    def __factorial(self, numero):\n",
    "        if(type(numero) != int):\n",
    "            return 'El numero debe ser un entero'\n",
    "        if(numero < 0):\n",
    "            return 'El numero debe ser pisitivo'\n",
    "        if (numero > 1):\n",
    "            numero = numero * self.__factorial(numero - 1)\n",
    "        return numero"
   ]
  },
  {
   "cell_type": "code",
   "execution_count": 9,
   "metadata": {},
   "outputs": [
    {
     "ename": "TypeError",
     "evalue": "Herramientas.conversion_grados() missing 2 required positional arguments: 'origen' and 'destino'",
     "output_type": "error",
     "traceback": [
      "\u001b[0;31m---------------------------------------------------------------------------\u001b[0m",
      "\u001b[0;31mTypeError\u001b[0m                                 Traceback (most recent call last)",
      "Cell \u001b[0;32mIn[9], line 1\u001b[0m\n\u001b[0;32m----> 1\u001b[0m Herramientas\u001b[39m.\u001b[39;49mconversion_grados(\u001b[39m\"\u001b[39;49m\u001b[39mhola\u001b[39;49m\u001b[39m\"\u001b[39;49m)\n",
      "\u001b[0;31mTypeError\u001b[0m: Herramientas.conversion_grados() missing 2 required positional arguments: 'origen' and 'destino'"
     ]
    }
   ],
   "source": [
    "Herramientas.conversion_grados(\"hola\")"
   ]
  },
  {
   "attachments": {},
   "cell_type": "markdown",
   "metadata": {},
   "source": [
    "2) En la función que hace la conversión de grados, validar que los parámetros enviados sean los esperados, de no serlo, informar cuáles son los valores esperados."
   ]
  },
  {
   "cell_type": "code",
   "execution_count": 10,
   "metadata": {},
   "outputs": [
    {
     "ename": "TypeError",
     "evalue": "Herramientas.conversion_grados() missing 2 required positional arguments: 'origen' and 'destino'",
     "output_type": "error",
     "traceback": [
      "\u001b[0;31m---------------------------------------------------------------------------\u001b[0m",
      "\u001b[0;31mTypeError\u001b[0m                                 Traceback (most recent call last)",
      "Cell \u001b[0;32mIn[10], line 1\u001b[0m\n\u001b[0;32m----> 1\u001b[0m Herramientas\u001b[39m.\u001b[39;49mconversion_grados([\u001b[39m1\u001b[39;49m,\u001b[39m2\u001b[39;49m])\n",
      "\u001b[0;31mTypeError\u001b[0m: Herramientas.conversion_grados() missing 2 required positional arguments: 'origen' and 'destino'"
     ]
    }
   ],
   "source": [
    "Herramientas.conversion_grados([1,2])"
   ]
  },
  {
   "attachments": {},
   "cell_type": "markdown",
   "metadata": {},
   "source": [
    "3) Importar el modulo \"unittest\" y crear los siguientes casos de pruebas sobre la clase utilizada en el punto 2<br>\n",
    "Creacion del objeto incorrecta<br>\n",
    "Creacion correcta del objeto<br>\n",
    "Metodo valor_modal()<br>\n",
    "\n",
    "Se puede usar \"raise ValueError()\" en la creación de la clase para verificar el error. Investigar sobre esta funcionalidad."
   ]
  },
  {
   "cell_type": "code",
   "execution_count": null,
   "metadata": {},
   "outputs": [],
   "source": []
  },
  {
   "attachments": {},
   "cell_type": "markdown",
   "metadata": {},
   "source": [
    "4) Probar una creación incorrecta y visualizar la salida del \"raise\""
   ]
  },
  {
   "cell_type": "code",
   "execution_count": null,
   "metadata": {},
   "outputs": [],
   "source": []
  },
  {
   "attachments": {},
   "cell_type": "markdown",
   "metadata": {},
   "source": [
    "6) Agregar casos de pruebas para el método verifica_primos() realizando el cambio en la clase, para que devuelva una lista de True o False en función de que el elemento en la posisicón sea o no primo"
   ]
  },
  {
   "cell_type": "code",
   "execution_count": null,
   "metadata": {},
   "outputs": [],
   "source": []
  },
  {
   "attachments": {},
   "cell_type": "markdown",
   "metadata": {},
   "source": [
    "7) Agregar casos de pruebas para el método conversion_grados()"
   ]
  },
  {
   "cell_type": "code",
   "execution_count": null,
   "metadata": {},
   "outputs": [],
   "source": []
  },
  {
   "attachments": {},
   "cell_type": "markdown",
   "metadata": {},
   "source": [
    "8) Agregar casos de pruebas para el método factorial()"
   ]
  },
  {
   "cell_type": "code",
   "execution_count": null,
   "metadata": {},
   "outputs": [],
   "source": []
  }
 ],
 "metadata": {
  "interpreter": {
   "hash": "c85384e4cb51c8b72350f3a8712cc8351fdc3955e32a27f9b60c6242ab125f01"
  },
  "kernelspec": {
   "display_name": "Python 3 (ipykernel)",
   "language": "python",
   "name": "python3"
  },
  "language_info": {
   "codemirror_mode": {
    "name": "ipython",
    "version": 3
   },
   "file_extension": ".py",
   "mimetype": "text/x-python",
   "name": "python",
   "nbconvert_exporter": "python",
   "pygments_lexer": "ipython3",
   "version": "3.10.8"
  }
 },
 "nbformat": 4,
 "nbformat_minor": 4
}
